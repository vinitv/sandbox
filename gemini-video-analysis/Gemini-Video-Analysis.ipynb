{
  "cells": [
    {
      "cell_type": "code",
      "id": "zPkSg3Xe14rvT0K2wvUuAJ1F",
      "metadata": {
        "tags": [],
        "id": "zPkSg3Xe14rvT0K2wvUuAJ1F"
      },
      "source": [],
      "execution_count": 6,
      "outputs": []
    },
    {
      "cell_type": "markdown",
      "source": [
        "Video Metadata Generator\n",
        "\n",
        "This Google Colab notebook demonstrates how to use the Gemini 2.5 Pro model to analyze a video file stored in Google Cloud Storage (GCS) and generate detailed, time-based metadata. This is useful for quickly finding specific moments or understanding the video's content without watching it entirely.\n",
        "\n"
      ],
      "metadata": {
        "id": "WtYhJSJDhuD-"
      },
      "id": "WtYhJSJDhuD-"
    },
    {
      "cell_type": "code",
      "source": [
        "# Install the required Python libraries\n",
        "!pip install -q google-generativeai google-cloud-storage google-cloud-secret-manager\n",
        "\n",
        "# Import necessary modules\n",
        "import os\n",
        "from google import genai\n",
        "from google.genai import types\n",
        "from google.colab import auth, userdata\n",
        "from google.cloud import storage\n",
        "from google.cloud import secretmanager\n",
        "from google.genai.types import HttpOptions, Part\n",
        "from IPython.display import display, Markdown\n",
        "\n",
        "print(\"✅ Libraries installed.\")\n",
        "\n",
        "\n",
        "# Set your Google Cloud Project ID\n",
        "PROJECT_ID = 'vv-dev-345222' # 👈 Replace with your GCP Project ID\n",
        "os.environ['GCLOUD_PROJECT'] = PROJECT_ID\n",
        "GOOGLE_CLOUD_PROJECT = \"vv-dev-345222\"\n",
        "VERTEX_AI_REGION = \"us-central1\"\n",
        "\n"
      ],
      "metadata": {
        "colab": {
          "base_uri": "https://localhost:8080/"
        },
        "id": "E4Qj6BKMhvi8",
        "outputId": "76e0bff3-6a9b-48f0-83ae-b7217d94fc61"
      },
      "id": "E4Qj6BKMhvi8",
      "execution_count": 7,
      "outputs": [
        {
          "output_type": "stream",
          "name": "stdout",
          "text": [
            "✅ Libraries installed.\n"
          ]
        }
      ]
    },
    {
      "cell_type": "code",
      "source": [
        "# --- GCS Configuration ---\n",
        "\n",
        "\n",
        "gcs_video_uri = \"gs://video-sample-1/nba.mp4\"\n"
      ],
      "metadata": {
        "id": "yFCk4NCHh9L2"
      },
      "id": "yFCk4NCHh9L2",
      "execution_count": 8,
      "outputs": []
    },
    {
      "cell_type": "code",
      "source": [],
      "metadata": {
        "id": "8VqnKZgHiAui"
      },
      "id": "8VqnKZgHiAui",
      "execution_count": 8,
      "outputs": []
    },
    {
      "cell_type": "code",
      "source": [
        "# Proceed only if the video was uploaded successfully\n",
        "if gcs_video_uri:\n",
        "    print(f\"Initializing video analysis for: {gcs_video_uri}\")\n",
        "\n",
        "\n",
        "    # Craft a detailed prompt for the model\n",
        "    prompt = \"\"\"\n",
        "    Analyze this video thoroughly from beginning to end.\n",
        "    Generate a detailed, time-based metadata log of all significant events, scenes, and actions.\n",
        "    The output must be a Markdown table with the following columns:\n",
        "    - **Timestamp (MM:SS):** The start time of the event.\n",
        "    - **Description:** A clear and concise summary of what is happening in the scene or event.\n",
        "    - **Player Name:** Optional Player Name if applicable.\n",
        "    - **Action:** Optional Action by the player if applicable.\n",
        "    - **Keywords:** A comma-separated list of 3-5 relevant keywords or tags for easy searching. Do not use repetitve tags like basketball, game, etc.\n",
        "    \"\"\"\n",
        "\n",
        "    # Generate the content from the prompt and video file\n",
        "\n",
        "    try:\n",
        "\n",
        "        client = genai.Client(\n",
        "            vertexai=True, project=GOOGLE_CLOUD_PROJECT, location='us-central1',\n",
        "            http_options={'api_version': 'v1'}\n",
        "        )\n",
        "        response = client.models.generate_content(\n",
        "            model=\"gemini-2.5-flash\",\n",
        "            contents=[\n",
        "                Part.from_uri(\n",
        "                    file_uri=gcs_video_uri,\n",
        "                    mime_type=\"video/mp4\",\n",
        "                ),\n",
        "                prompt,\n",
        "            ],\n",
        "        )\n",
        "        print(\"✅ Analysis complete!\")\n",
        "\n",
        "        # Print the token usage from the response metadata\n",
        "        print(f\"\\n--- Token Usage ---\")\n",
        "        print(f\"Tokens sent (prompt): {response.usage_metadata.prompt_token_count}\")\n",
        "        print(f\"Tokens received (response): {response.usage_metadata.candidates_token_count}\")\n",
        "        print(f\"Total tokens: {response.usage_metadata.total_token_count}\")\n",
        "        print(f\"--------------------\")\n",
        "\n",
        "        # Display the generated metadata in a clean format\n",
        "        display(Markdown(\"--- \\n ### Generated Video Metadata\"))\n",
        "        display(Markdown(response.text))\n",
        "\n",
        "    except Exception as e:\n",
        "        print(f\" An error occurred during Gemini analysis: {e}\")\n",
        "\n",
        "else:\n",
        "    print(\"Skipping analysis because the video URI is not available.\")"
      ],
      "metadata": {
        "id": "DJf7EryciOeI",
        "colab": {
          "base_uri": "https://localhost:8080/",
          "height": 1000
        },
        "outputId": "37f32523-fe9b-4ead-dd3a-f5053076ed8f"
      },
      "id": "DJf7EryciOeI",
      "execution_count": 9,
      "outputs": [
        {
          "output_type": "stream",
          "name": "stdout",
          "text": [
            "Initializing video analysis for: gs://video-sample-1/nba.mp4\n",
            "✅ Analysis complete!\n",
            "\n",
            "--- Token Usage ---\n",
            "Tokens sent (prompt): 111063\n",
            "Tokens received (response): 2012\n",
            "Total tokens: 113126\n",
            "--------------------\n"
          ]
        },
        {
          "output_type": "display_data",
          "data": {
            "text/plain": [
              "<IPython.core.display.Markdown object>"
            ],
            "text/markdown": "--- \n ### Generated Video Metadata"
          },
          "metadata": {}
        },
        {
          "output_type": "display_data",
          "data": {
            "text/plain": [
              "<IPython.core.display.Markdown object>"
            ],
            "text/markdown": "Here's a detailed, time-based metadata log of the video:\n\n| Timestamp (MM:SS) | Description | Player Name | Action | Keywords |\n|---|---|---|---|---|\n| 00:00 | LeBron James executes a powerful dunk after a timeout, increasing the Lakers' lead. | LeBron James | Dunk | Alley-oop, Powerful, Timeout |\n| 00:06 | Lakers player receives a pass under the basket and scores with a smooth layup. | Anthony Davis | Layup | Assist, Under basket, Fluid |\n| 00:11 | Lakers player attempts a layup, gets blocked, but recovers the ball and scores with a putback. | Rui Hachimura | Block, Putback | Offensive rebound, Second chance, Agile |\n| 00:18 | Lakers player drives to the basket, makes a contested layup, and gets fouled. | Austin Reaves | Layup | Contested shot, Foul, Driving |\n| 00:24 | Lakers player dribbles, drives to the rim, and scores with a layup. | D'Angelo Russell | Layup | Dribble drive, Penetration, Scoring |\n| 00:30 | Lakers player blocks a shot, then runs the court and finishes with a strong dunk. | Rui Hachimura | Block, Dunk | Fast break, Defensive play, Transition |\n| 00:40 | Lakers player drives baseline, elevates for a contested shot, and scores. | Austin Reaves | Layup | Baseline drive, Contested, Clutch |\n| 00:48 | LeBron James receives a pass and executes a powerful dunk. | LeBron James | Dunk | Transition, Teamwork, Forceful |\n| 00:54 | LeBron James shoots a three-pointer from beyond the arc. | LeBron James | Three-pointer | Long-range, Deep shot, Perimeter |\n| 01:03 | Lakers player shoots a three-pointer from the wing, extending the lead. | D'Angelo Russell | Three-pointer | Wing shot, Long-range, Off-dribble |\n| 01:10 | LeBron James makes a crucial block at the rim, leading to a fast break. | LeBron James | Block | Defensive stop, Transition, Chase-down |\n| 01:15 | Lakers player steals the ball, leading to a fast break and a powerful dunk. | LeBron James | Steal, Dunk | Fast break, Turnover, Aggressive |\n| 01:24 | Lakers player receives a pass and finishes with a two-handed dunk. | Austin Reaves | Dunk | Assisted, Two-handed, Easy score |\n| 01:32 | LeBron James secures a rebound and immediately throws a full-court pass for a dunk. | LeBron James | Rebound, Full-court pass | Outlet pass, Fast break, Vision |\n| 01:39 | LeBron James shoots a three-pointer from the logo at mid-court. | LeBron James | Three-pointer | Logo shot, Half-court, Spectactular |\n| 01:46 | Lakers player receives a pass, pump fakes, and scores with a short jumper. | D'Angelo Russell | Jumper | Pump fake, Mid-range, Offensive creativity |\n| 01:53 | Lakers player attempts a game-winning shot at the buzzer but misses. | Austin Reaves | Buzzer-beater | Last shot, Missed, Critical moment |\n| 02:03 | Lakers player makes a strong drive to the basket and finishes with a layup. | Austin Reaves | Layup | Drive, Strong finish, Contested |\n| 02:10 | Lakers player executes a step-back three-pointer to beat the shot clock. | LeBron James | Three-pointer | Step-back, Shot clock, Isolation |\n| 02:18 | Lakers player receives a pass in the paint and scores with a short jumper. | D'Angelo Russell | Jumper | Post-up, Turnaround, Mid-range |\n| 02:25 | LeBron James dribbles up the court and pulls up for a long three-pointer. | LeBron James | Three-pointer | Pull-up, Transition offense, Deep shot |\n| 02:33 | Lakers player makes an impressive block, leading to a fast break dunk. | Austin Reaves | Block, Dunk | Chase-down, Fast break, Athletic |\n| 02:46 | Lakers player catches a pass in the paint and scores with a two-handed dunk. | LeBron James | Dunk | Catch-and-finish, Two-handed, Power |\n| 02:55 | Lakers player makes a steal and scores on a fast break layup. | Austin Reaves | Steal, Layup | Turnover, Transition, Uncontested |\n| 03:02 | Lakers player receives a lob pass and finishes with an alley-oop dunk. | Jaxson Hayes | Alley-oop | Lob, Athletic finish, Assisted |\n| 03:10 | Lakers player makes a block, then receives a pass and dunks the ball. | LeBron James | Block, Dunk | Defensive contribution, Fast break, Transition |\n| 03:20 | LeBron James executes a spin move in the paint and scores with a layup. | LeBron James | Layup | Spin move, Post-move, Agile |\n| 03:29 | Lakers player receives a pass under the basket and scores with a dunk. | Jaxson Hayes | Dunk | Assisted, Under basket, Forceful |\n| 03:36 | LeBron James shoots a logo three-pointer. | LeBron James | Three-pointer | Logo shot, Deep, Long-range |\n| 03:46 | Lakers player dribbles into the paint and executes a strong dunk. | LeBron James | Dunk | Drive, Aggressive, Two-handed |\n| 03:51 | Lakers player gets the rebound, passes to LeBron James for an alley-oop dunk. | LeBron James | Rebound, Alley-oop | Offensive board, Lob, Team play |\n| 04:00 | Lakers player drives to the basket, makes a Euro step, and scores. | Austin Reaves | Layup | Euro step, Drive, Contested |\n| 04:10 | LeBron James receives a pass on the fast break and dunks. | LeBron James | Dunk | Fast break, Assisted, Quick score |\n| 04:17 | Lakers player shoots a three-pointer from the top of the key. | Austin Reaves | Three-pointer | Top of key, Open shot, Perimeter |\n| 04:27 | Lakers player scores with a putback dunk after an offensive rebound. | Jaxson Hayes | Putback dunk | Offensive rebound, Second chance, Powerful |\n| 04:35 | Lakers player scores with a dunk after a strong drive. | Jaxson Hayes | Dunk | Drive, Powerful, Two-handed |\n| 04:45 | LeBron James receives a lob pass and finishes with an alley-oop dunk. | LeBron James | Alley-oop | Lob, Assisted, Athletic |\n| 04:51 | LeBron James shoots a three-pointer from the wing. | LeBron James | Three-pointer | Wing shot, Open look, Perimeter |\n| 05:04 | Lakers player shoots a three-pointer from beyond the arc. | Austin Reaves | Three-pointer | Long-range, Clutch, Overtime |\n| 05:10 | Lakers player scores with a quick layup in the paint. | D'Angelo Russell | Layup | Quick score, Paint, Uncontested |\n| 05:16 | Lakers player shoots a three-pointer from the wing. | Max Christie | Three-pointer | Wing shot, Open, Perimeter |\n| 05:22 | Lakers player gets a steal and finishes with a dunk on the fast break. | Jarred Vanderbilt | Steal, Dunk | Fast break, Turnover, Transition |\n| 05:30 | Lakers player receives a pass under the basket and scores with a layup. | Luka Doncic | Layup | Assisted, Under basket, Quick release |\n| 05:37 | Lakers player blocks a shot, leading to a fast break dunk. | LeBron James | Block, Dunk | Defensive highlight, Fast break, Transition |\n| 05:45 | Lakers player makes a slick no-look pass for a dunk. | Austin Reaves | No-look pass, Dunk | Assist, Creativity, Backdoor cut |\n| 05:54 | Lakers player receives a pass in the paint and finishes with a dunk. | Jaxson Hayes | Dunk | Assisted, Paint, Forceful |\n| 06:03 | Lakers player makes a no-look pass to a teammate for a dunk. | D'Angelo Russell | No-look pass, Dunk | Assist, Vision, Creative |\n| 06:12 | Lakers player makes a steal and dunks the ball on a fast break. | LeBron James | Steal, Dunk | Fast break, Turnover, Athletic |\n| 06:20 | Lakers player receives a pass and scores with a layup. | LeBron James | Layup | Assisted, Under basket, Contested |"
          },
          "metadata": {}
        }
      ]
    }
  ],
  "metadata": {
    "kernelspec": {
      "display_name": "Python 3",
      "language": "python",
      "name": "python3"
    },
    "language_info": {
      "codemirror_mode": {
        "name": "ipython",
        "version": 3
      },
      "file_extension": ".py",
      "mimetype": "text/x-python",
      "name": "python",
      "nbconvert_exporter": "python",
      "pygments_lexer": "ipython3",
      "version": "3.10.10"
    },
    "colab": {
      "provenance": [],
      "name": "Liv Golf Video MT",
      "gpuType": "L4"
    },
    "accelerator": "GPU"
  },
  "nbformat": 4,
  "nbformat_minor": 5
}